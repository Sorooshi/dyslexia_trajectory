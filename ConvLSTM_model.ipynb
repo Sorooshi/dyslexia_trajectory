{
 "cells": [
  {
   "cell_type": "code",
   "execution_count": 1,
   "metadata": {},
   "outputs": [],
   "source": [
    "from tensorflow_docs.vis import embed\n",
    "from tensorflow import keras\n",
    "from imutils import paths\n",
    "\n",
    "import matplotlib.pyplot as plt\n",
    "import tensorflow as tf\n",
    "import pandas as pd\n",
    "import numpy as np\n",
    "import cv2 as cv\n",
    "import random\n",
    "import imageio\n",
    "import os"
   ]
  },
  {
   "cell_type": "code",
   "execution_count": 2,
   "metadata": {},
   "outputs": [],
   "source": [
    "seed_constant = 27\n",
    "np.random.seed(seed_constant)\n",
    "random.seed(seed_constant)\n",
    "tf.random.set_seed(seed_constant)"
   ]
  },
  {
   "attachments": {},
   "cell_type": "markdown",
   "metadata": {},
   "source": [
    "## Data Processing"
   ]
  },
  {
   "cell_type": "code",
   "execution_count": 3,
   "metadata": {},
   "outputs": [],
   "source": [
    "# some hyperparameters for data processing\n",
    "IMG_HEIGHT = 120\n",
    "IMG_WIDTH = 300\n",
    "SEQUENCE_LENGTH = 200\n",
    "DATASET_DIR = \"/Users/mariakrylova/Documents/ZaVod/data/Datasets/cutted\"\n",
    "CLASSES_LIST = ['Dyslexia', 'Normal', 'Risk']"
   ]
  },
  {
   "attachments": {},
   "cell_type": "markdown",
   "metadata": {},
   "source": [
    "**Resizing and Normalizing videos**"
   ]
  },
  {
   "cell_type": "code",
   "execution_count": 4,
   "metadata": {},
   "outputs": [],
   "source": [
    "def frame_normalizer(path):\n",
    "    frames_l = []\n",
    "    cap = cv.VideoCapture(path)\n",
    "    if (cap.isOpened()== False): \n",
    "        print(\"Error opening video stream or file\")\n",
    "    while(cap.isOpened()):\n",
    "        ret, frame = cap.read()\n",
    "        if ret == True:\n",
    "            resized_frame = cv.resize(frame, (IMG_WIDTH, IMG_HEIGHT))\n",
    "            normalized_frame = resized_frame / 255\n",
    "            #print(normalized_frame.shape)\n",
    "            frames_l.append(normalized_frame)\n",
    "        else:\n",
    "            break\n",
    "    cap.release()\n",
    "    return frames_l"
   ]
  },
  {
   "attachments": {},
   "cell_type": "markdown",
   "metadata": {},
   "source": [
    "**Dataset creation**"
   ]
  },
  {
   "cell_type": "code",
   "execution_count": 5,
   "metadata": {},
   "outputs": [],
   "source": [
    "def dataset_creation():\n",
    "    features = []\n",
    "    labels = []\n",
    "    pathes = []\n",
    "    for idx, class_name in enumerate(CLASSES_LIST):\n",
    "        path = os.path.join(DATASET_DIR, class_name)\n",
    "        files = os.listdir(path)\n",
    "        for file in files:\n",
    "            if file != \".DS_Store\":\n",
    "                video_path = os.path.join(path, file)\n",
    "                frames = frame_normalizer(video_path)[:SEQUENCE_LENGTH]\n",
    "                if len(frames) == SEQUENCE_LENGTH: \n",
    "                    features.append(frames)\n",
    "                    labels.append(idx)\n",
    "                    pathes.append(video_path)\n",
    "    features = np.asarray(features)\n",
    "    labels = np.array(labels)\n",
    "    return features, labels, pathes"
   ]
  },
  {
   "cell_type": "code",
   "execution_count": 6,
   "metadata": {},
   "outputs": [],
   "source": [
    "features, labels, pathes = dataset_creation()"
   ]
  },
  {
   "cell_type": "code",
   "execution_count": 7,
   "metadata": {},
   "outputs": [],
   "source": [
    "from keras.utils import to_categorical\n",
    "one_hot_labels = to_categorical(labels)"
   ]
  },
  {
   "cell_type": "code",
   "execution_count": 8,
   "metadata": {},
   "outputs": [],
   "source": [
    "#splitting to train and test\n",
    "from sklearn.model_selection import train_test_split\n",
    "X_train, X_test, y_train, y_test = train_test_split(features, one_hot_labels, test_size=0.1, \n",
    "                                                    stratify=labels, random_state=seed_constant, shuffle=True)"
   ]
  },
  {
   "attachments": {},
   "cell_type": "markdown",
   "metadata": {},
   "source": [
    "## ConvLSTM NN"
   ]
  },
  {
   "cell_type": "code",
   "execution_count": 9,
   "metadata": {},
   "outputs": [],
   "source": [
    "from keras.layers import *\n",
    "from keras.models import Sequential\n",
    "from keras.callbacks import EarlyStopping\n",
    "from keras.utils import plot_model\n",
    "from keras_tuner import BayesianOptimization, HyperModel"
   ]
  },
  {
   "attachments": {},
   "cell_type": "markdown",
   "metadata": {},
   "source": [
    "**Architecture example**"
   ]
  },
  {
   "cell_type": "code",
   "execution_count": 22,
   "metadata": {},
   "outputs": [],
   "source": [
    "def convlstm_model_creation():\n",
    "    model = Sequential()\n",
    "    model.add(ConvLSTM2D(filters=4, kernel_size=(3,3), activation='relu', data_format='channels_last',\n",
    "                         recurrent_dropout=0.2, return_sequences=True, input_shape=(SEQUENCE_LENGTH, IMG_HEIGHT, IMG_WIDTH, 3)))\n",
    "    model.add(MaxPooling3D(pool_size=(1,2,2), padding='same', data_format='channels_last'))\n",
    "    model.add(Flatten())\n",
    "    model.add(Dense(len(CLASSES_LIST), activation='Softmax'))\n",
    "    model.summary()\n",
    "    return model"
   ]
  },
  {
   "cell_type": "code",
   "execution_count": 12,
   "metadata": {},
   "outputs": [
    {
     "name": "stdout",
     "output_type": "stream",
     "text": [
      "Model: \"sequential\"\n",
      "_________________________________________________________________\n",
      " Layer (type)                Output Shape              Param #   \n",
      "=================================================================\n",
      " conv_lstm2d (ConvLSTM2D)    (None, 200, 118, 298, 4   1024      \n",
      "                             )                                   \n",
      "                                                                 \n",
      " max_pooling3d (MaxPooling3  (None, 200, 59, 149, 4)   0         \n",
      " D)                                                              \n",
      "                                                                 \n",
      " flatten (Flatten)           (None, 7032800)           0         \n",
      "                                                                 \n",
      " dense (Dense)               (None, 3)                 21098403  \n",
      "                                                                 \n",
      "=================================================================\n",
      "Total params: 21099427 (80.49 MB)\n",
      "Trainable params: 21099427 (80.49 MB)\n",
      "Non-trainable params: 0 (0.00 Byte)\n",
      "_________________________________________________________________\n"
     ]
    }
   ],
   "source": [
    "convlstm_model = convlstm_model_creation()"
   ]
  },
  {
   "cell_type": "code",
   "execution_count": 14,
   "metadata": {},
   "outputs": [
    {
     "name": "stdout",
     "output_type": "stream",
     "text": [
      "Epoch 1/7\n",
      "8/8 [==============================] - 157s 19s/step - loss: 2649.0469 - accuracy: 0.2500 - val_loss: 3227.8994 - val_accuracy: 0.3750\n",
      "Epoch 2/7\n",
      "8/8 [==============================] - 147s 18s/step - loss: 1154.2533 - accuracy: 0.4375 - val_loss: 136.1737 - val_accuracy: 0.1250\n",
      "Epoch 3/7\n",
      "8/8 [==============================] - 138s 17s/step - loss: 579.1815 - accuracy: 0.3438 - val_loss: 168.7845 - val_accuracy: 0.3750\n",
      "Epoch 4/7\n",
      "8/8 [==============================] - 134s 17s/step - loss: 254.2395 - accuracy: 0.3125 - val_loss: 226.5894 - val_accuracy: 0.1250\n",
      "Epoch 5/7\n",
      "8/8 [==============================] - 136s 17s/step - loss: 142.0565 - accuracy: 0.3750 - val_loss: 50.4287 - val_accuracy: 0.1250\n",
      "Epoch 6/7\n",
      "8/8 [==============================] - 137s 17s/step - loss: 148.9450 - accuracy: 0.4062 - val_loss: 39.0182 - val_accuracy: 0.1250\n",
      "Epoch 7/7\n",
      "8/8 [==============================] - 135s 17s/step - loss: 109.5880 - accuracy: 0.5312 - val_loss: 35.8703 - val_accuracy: 0.5000\n"
     ]
    },
    {
     "data": {
      "image/png": "[encoded data removed]",
      "text/plain": [
       "<Figure size 640x480 with 1 Axes>"
      ]
     },
     "metadata": {},
     "output_type": "display_data"
    }
   ],
   "source": [
    "early_stopping_callback = EarlyStopping(monitor='val_loss', patience=3, mode='min', restore_best_weights=True)\n",
    "convlstm_model.compile(loss='categorical_crossentropy', optimizer='Adam', metrics=['accuracy'])\n",
    "\n",
    "history = convlstm_model.fit(X_train, y_train, epochs=7, batch_size=4, \n",
    "                             shuffle=True, validation_split=0.2, callbacks=[early_stopping_callback])\n",
    "\n",
    "plt.plot(history.history['loss'], label='train')\n",
    "plt.plot(history.history['val_loss'], label='valid')\n",
    "plt.legend()\n",
    "plt.show()"
   ]
  },
  {
   "cell_type": "code",
   "execution_count": 16,
   "metadata": {},
   "outputs": [
    {
     "name": "stdout",
     "output_type": "stream",
     "text": [
      "Test loss: 70.0687484741211\n",
      "Test accuracy: 0.20000000298023224\n"
     ]
    }
   ],
   "source": [
    "score = convlstm_model.evaluate(X_test, y_test, verbose=0)\n",
    "print('Test loss:', score[0])\n",
    "print('Test accuracy:', score[1])"
   ]
  },
  {
   "cell_type": "code",
   "execution_count": 20,
   "metadata": {},
   "outputs": [
    {
     "name": "stdout",
     "output_type": "stream",
     "text": [
      "INFO:tensorflow:Assets written to: /Users/mariakrylova/Documents/ZaVod/codes/convLstm7/assets\n"
     ]
    },
    {
     "name": "stderr",
     "output_type": "stream",
     "text": [
      "INFO:tensorflow:Assets written to: /Users/mariakrylova/Documents/ZaVod/codes/convLstm7/assets\n"
     ]
    }
   ],
   "source": [
    "convlstm_model.save('/Users/mariakrylova/Documents/ZaVod/codes/convLstm7')"
   ]
  },
  {
   "attachments": {},
   "cell_type": "markdown",
   "metadata": {},
   "source": [
    "**Tuning our model**"
   ]
  },
  {
   "cell_type": "code",
   "execution_count": 10,
   "metadata": {},
   "outputs": [],
   "source": [
    "class ConvLSTMHyperModel(HyperModel):\n",
    "    def build(self, hp):\n",
    "        model = Sequential()\n",
    "        model.add(ConvLSTM2D(filters=hp.Int('filters',\n",
    "                                          min_value=4,\n",
    "                                          max_value=16,\n",
    "                                          step=4), \n",
    "                            kernel_size=(3,3), \n",
    "                            activation=hp.Choice('activation',\n",
    "                                                values=['relu', 'tanh', 'sigmoid', 'exponential']), \n",
    "                            data_format='channels_last',\n",
    "                            recurrent_dropout=0.2, \n",
    "                            return_sequences=True, \n",
    "                            input_shape=(SEQUENCE_LENGTH, IMG_HEIGHT, IMG_WIDTH, 3)))\n",
    "        model.add(MaxPooling3D(pool_size=(1,2,2), padding='same', data_format='channels_last'))\n",
    "        model.add(Flatten())\n",
    "        model.add(Dense(len(CLASSES_LIST), activation='Softmax'))\n",
    "        model.compile(loss='categorical_crossentropy', \n",
    "                            optimizer=hp.Choice('optimizer',\n",
    "                                               values=['adam', 'SGD', 'rmsprop']), \n",
    "                             metrics=['accuracy'])\n",
    "        return model\n",
    "    \n",
    "    def fit(self, hp, model, *args, **kwargs):\n",
    "        return model.fit(\n",
    "            *args,\n",
    "            batch_size=hp.Int(\"batch_size\",\n",
    "                              min_value=2,\n",
    "                              max_value=6,\n",
    "                              step=2),\n",
    "            epochs=hp.Int(\"epochs\",\n",
    "                          min_value=2,\n",
    "                          max_value=4,\n",
    "                          step=1\n",
    "            ),\n",
    "            **kwargs,\n",
    "        )"
   ]
  },
  {
   "cell_type": "code",
   "execution_count": 11,
   "metadata": {},
   "outputs": [],
   "source": [
    "tuner = BayesianOptimization(\n",
    "    ConvLSTMHyperModel(),\n",
    "    objective='val_accuracy',\n",
    "    max_trials=3,\n",
    "    overwrite=True,\n",
    "    directory='/Users/mariakrylova/Documents/ZaVod/codes/models',\n",
    "    project_name=\"tune_hypermodel\",\n",
    ")"
   ]
  },
  {
   "cell_type": "code",
   "execution_count": 12,
   "metadata": {},
   "outputs": [
    {
     "name": "stdout",
     "output_type": "stream",
     "text": [
      "Search space summary\n",
      "Default search space size: 3\n",
      "filters (Int)\n",
      "{'default': None, 'conditions': [], 'min_value': 4, 'max_value': 16, 'step': 4, 'sampling': 'linear'}\n",
      "activation (Choice)\n",
      "{'default': 'relu', 'conditions': [], 'values': ['relu', 'tanh', 'sigmoid', 'exponential'], 'ordered': False}\n",
      "optimizer (Choice)\n",
      "{'default': 'adam', 'conditions': [], 'values': ['adam', 'SGD', 'rmsprop'], 'ordered': False}\n"
     ]
    }
   ],
   "source": [
    "tuner.search_space_summary()"
   ]
  },
  {
   "cell_type": "code",
   "execution_count": 13,
   "metadata": {},
   "outputs": [
    {
     "name": "stdout",
     "output_type": "stream",
     "text": [
      "Trial 3 Complete [00h 03m 43s]\n",
      "val_accuracy: 0.125\n",
      "\n",
      "Best val_accuracy So Far: 0.375\n",
      "Total elapsed time: 00h 13m 13s\n",
      "INFO:tensorflow:Oracle triggered exit\n"
     ]
    }
   ],
   "source": [
    "tuner.search(\n",
    "    X_train,\n",
    "    y_train,\n",
    "    validation_split=0.2,\n",
    "    verbose=1,\n",
    "    callbacks=[keras.callbacks.EarlyStopping('val_loss', patience=2)]\n",
    ")"
   ]
  },
  {
   "cell_type": "code",
   "execution_count": 14,
   "metadata": {},
   "outputs": [
    {
     "name": "stdout",
     "output_type": "stream",
     "text": [
      "Results summary\n",
      "Results in /Users/mariakrylova/Documents/ZaVod/codes/models/tune_hypermodel\n",
      "Showing 10 best trials\n",
      "Objective(name=\"val_accuracy\", direction=\"max\")\n",
      "\n",
      "Trial 0 summary\n",
      "Hyperparameters:\n",
      "filters: 4\n",
      "activation: sigmoid\n",
      "optimizer: rmsprop\n",
      "batch_size: 2\n",
      "epochs: 2\n",
      "Score: 0.375\n",
      "\n",
      "Trial 1 summary\n",
      "Hyperparameters:\n",
      "filters: 4\n",
      "activation: relu\n",
      "optimizer: adam\n",
      "batch_size: 4\n",
      "epochs: 2\n",
      "Score: 0.375\n",
      "\n",
      "Trial 2 summary\n",
      "Hyperparameters:\n",
      "filters: 4\n",
      "activation: relu\n",
      "optimizer: SGD\n",
      "batch_size: 6\n",
      "epochs: 2\n",
      "Score: 0.125\n"
     ]
    }
   ],
   "source": [
    "tuner.results_summary()"
   ]
  },
  {
   "cell_type": "code",
   "execution_count": 15,
   "metadata": {},
   "outputs": [
    {
     "name": "stdout",
     "output_type": "stream",
     "text": [
      "Model: \"sequential\"\n",
      "_________________________________________________________________\n",
      " Layer (type)                Output Shape              Param #   \n",
      "=================================================================\n",
      " conv_lstm2d (ConvLSTM2D)    (None, 200, 118, 298, 4   1024      \n",
      "                             )                                   \n",
      "                                                                 \n",
      " max_pooling3d (MaxPooling3  (None, 200, 59, 149, 4)   0         \n",
      " D)                                                              \n",
      "                                                                 \n",
      " flatten (Flatten)           (None, 7032800)           0         \n",
      "                                                                 \n",
      " dense (Dense)               (None, 3)                 21098403  \n",
      "                                                                 \n",
      "=================================================================\n",
      "Total params: 21099427 (80.49 MB)\n",
      "Trainable params: 21099427 (80.49 MB)\n",
      "Non-trainable params: 0 (0.00 Byte)\n",
      "_________________________________________________________________\n",
      "1/1 [==============================] - 3s 3s/step - loss: 1588.7747 - accuracy: 0.4000\n",
      "\n",
      "Model: \"sequential\"\n",
      "_________________________________________________________________\n",
      " Layer (type)                Output Shape              Param #   \n",
      "=================================================================\n",
      " conv_lstm2d (ConvLSTM2D)    (None, 200, 118, 298, 4   1024      \n",
      "                             )                                   \n",
      "                                                                 \n",
      " max_pooling3d (MaxPooling3  (None, 200, 59, 149, 4)   0         \n",
      " D)                                                              \n",
      "                                                                 \n",
      " flatten (Flatten)           (None, 7032800)           0         \n",
      "                                                                 \n",
      " dense (Dense)               (None, 3)                 21098403  \n",
      "                                                                 \n",
      "=================================================================\n",
      "Total params: 21099427 (80.49 MB)\n",
      "Trainable params: 21099427 (80.49 MB)\n",
      "Non-trainable params: 0 (0.00 Byte)\n",
      "_________________________________________________________________\n",
      "WARNING:tensorflow:5 out of the last 18 calls to <function Model.make_test_function.<locals>.test_function at 0x138159a60> triggered tf.function retracing. Tracing is expensive and the excessive number of tracings could be due to (1) creating @tf.function repeatedly in a loop, (2) passing tensors with different shapes, (3) passing Python objects instead of tensors. For (1), please define your @tf.function outside of the loop. For (2), @tf.function has reduce_retracing=True option that can avoid unnecessary retracing. For (3), please refer to https://www.tensorflow.org/guide/function#controlling_retracing and https://www.tensorflow.org/api_docs/python/tf/function for  more details.\n",
      "1/1 [==============================] - 3s 3s/step - loss: 55.8286 - accuracy: 0.4000\n",
      "\n",
      "Model: \"sequential\"\n",
      "_________________________________________________________________\n",
      " Layer (type)                Output Shape              Param #   \n",
      "=================================================================\n",
      " conv_lstm2d (ConvLSTM2D)    (None, 200, 118, 298, 4   1024      \n",
      "                             )                                   \n",
      "                                                                 \n",
      " max_pooling3d (MaxPooling3  (None, 200, 59, 149, 4)   0         \n",
      " D)                                                              \n",
      "                                                                 \n",
      " flatten (Flatten)           (None, 7032800)           0         \n",
      "                                                                 \n",
      " dense (Dense)               (None, 3)                 21098403  \n",
      "                                                                 \n",
      "=================================================================\n",
      "Total params: 21099427 (80.49 MB)\n",
      "Trainable params: 21099427 (80.49 MB)\n",
      "Non-trainable params: 0 (0.00 Byte)\n",
      "_________________________________________________________________\n",
      "WARNING:tensorflow:5 out of the last 11 calls to <function Model.make_test_function.<locals>.test_function at 0x29d80a940> triggered tf.function retracing. Tracing is expensive and the excessive number of tracings could be due to (1) creating @tf.function repeatedly in a loop, (2) passing tensors with different shapes, (3) passing Python objects instead of tensors. For (1), please define your @tf.function outside of the loop. For (2), @tf.function has reduce_retracing=True option that can avoid unnecessary retracing. For (3), please refer to https://www.tensorflow.org/guide/function#controlling_retracing and https://www.tensorflow.org/api_docs/python/tf/function for  more details.\n",
      "1/1 [==============================] - 3s 3s/step - loss: nan - accuracy: 0.4000\n",
      "\n"
     ]
    }
   ],
   "source": [
    "models = tuner.get_best_models(num_models=3)\n",
    "for model in models:\n",
    "    model.summary()\n",
    "    model.evaluate(X_test, y_test)\n",
    "    print()"
   ]
  }
 ],
 "metadata": {
  "kernelspec": {
   "display_name": "Python 3",
   "language": "python",
   "name": "python3"
  },
  "language_info": {
   "codemirror_mode": {
    "name": "ipython",
    "version": 3
   },
   "file_extension": ".py",
   "mimetype": "text/x-python",
   "name": "python",
   "nbconvert_exporter": "python",
   "pygments_lexer": "ipython3",
   "version": "3.9.6"
  },
  "orig_nbformat": 4
 },
 "nbformat": 4,
 "nbformat_minor": 2
}
